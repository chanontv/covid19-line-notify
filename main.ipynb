{
 "cells": [
  {
   "cell_type": "code",
   "execution_count": 1,
   "metadata": {},
   "outputs": [
    {
     "data": {
      "text/plain": [
       "True"
      ]
     },
     "execution_count": 1,
     "metadata": {},
     "output_type": "execute_result"
    }
   ],
   "source": [
    "import requests\n",
    "from dotenv import load_dotenv\n",
    "import os\n",
    "\n",
    "load_dotenv()"
   ]
  },
  {
   "cell_type": "code",
   "execution_count": 2,
   "metadata": {},
   "outputs": [
    {
     "name": "stdout",
     "output_type": "stream",
     "text": [
      "<class 'dict'>\n",
      "{'txn_date': '2022-05-26', 'province': 'กรุงเทพมหานคร', 'new_case': 2017, 'total_case': 823634, 'new_case_excludeabroad': 2017, 'total_case_excludeabroad': 819262, 'new_death': 4, 'total_death': 7871, 'update_date': '2022-05-26 07:36:14'}\n"
     ]
    }
   ],
   "source": [
    "covid_api = 'https://covid19.ddc.moph.go.th/api/Cases/today-cases-by-provinces'\n",
    "result = requests.get(covid_api).json()\n",
    "#province bangkok\n",
    "data = result[1]\n",
    "#check\n",
    "print(type(data))\n",
    "print(data)"
   ]
  },
  {
   "cell_type": "code",
   "execution_count": 3,
   "metadata": {},
   "outputs": [],
   "source": [
    "token = os.getenv(\"TOKEN\")\n",
    "msg = f\"\"\"\n",
    "🗓 Daily Report: {data[\"txn_date\"]}\n",
    "🇹🇭 Province : Bangkok\n",
    "🚨 New Cases: {data[\"new_case\"]} \n",
    "🦠Total Cases: {data[\"total_case\"]}\n",
    "💀 New Deaths: {data[\"new_death\"]}\n",
    "☠ Total Deaths: {data[\"total_death\"]}\n",
    "\"\"\""
   ]
  },
  {
   "cell_type": "code",
   "execution_count": 4,
   "metadata": {},
   "outputs": [
    {
     "name": "stdout",
     "output_type": "stream",
     "text": [
      "{\"status\":200,\"message\":\"ok\"}\n"
     ]
    }
   ],
   "source": [
    "headers = {'content-type':'application/x-www-form-urlencoded','Authorization':'Bearer '+token}\n",
    "url = 'https://notify-api.line.me/api/notify'\n",
    "r = requests.post(url, headers=headers, data = {'message':msg})\n",
    "print (r.text)"
   ]
  }
 ],
 "metadata": {
  "interpreter": {
   "hash": "9c1d5a056f04d97314a9f946bc8c5185004572d3d68312220c0ba298420421f7"
  },
  "kernelspec": {
   "display_name": "Python 3.9.7 ('base')",
   "language": "python",
   "name": "python3"
  },
  "language_info": {
   "codemirror_mode": {
    "name": "ipython",
    "version": 3
   },
   "file_extension": ".py",
   "mimetype": "text/x-python",
   "name": "python",
   "nbconvert_exporter": "python",
   "pygments_lexer": "ipython3",
   "version": "3.9.7"
  },
  "orig_nbformat": 4
 },
 "nbformat": 4,
 "nbformat_minor": 2
}
